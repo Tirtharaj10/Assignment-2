{
  "nbformat": 4,
  "nbformat_minor": 0,
  "metadata": {
    "colab": {
      "name": "Tirtharaj10.ipynb",
      "version": "0.3.2",
      "provenance": []
    },
    "kernelspec": {
      "display_name": "Python 3",
      "language": "python",
      "name": "python3"
    }
  },
  "cells": [
    {
      "metadata": {
        "id": "JLrxe3qMV7Hw",
        "colab_type": "code",
        "colab": {
          "base_uri": "https://localhost:8080/",
          "height": 51
        },
        "outputId": "a4b9f476-b656-4dbf-e36c-7b4cd876bfcd"
      },
      "cell_type": "code",
      "source": [
        "dummy_list=[1, 2, 3, 5]\n",
        "print (dummy_list)\n",
        "print(sorted(dummy_list, reverse=True))"
      ],
      "execution_count": 4,
      "outputs": [
        {
          "output_type": "stream",
          "text": [
            "[1, 2, 3, 5]\n",
            "[5, 3, 2, 1]\n"
          ],
          "name": "stdout"
        }
      ]
    }
  ]
}